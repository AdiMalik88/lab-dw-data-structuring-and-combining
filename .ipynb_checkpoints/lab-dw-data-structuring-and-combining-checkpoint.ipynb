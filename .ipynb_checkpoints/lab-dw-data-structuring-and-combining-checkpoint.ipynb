{
 "cells": [
  {
   "cell_type": "markdown",
   "id": "25d7736c-ba17-4aff-b6bb-66eba20fbf4e",
   "metadata": {
    "id": "25d7736c-ba17-4aff-b6bb-66eba20fbf4e"
   },
   "source": [
    "# Lab | Data Structuring and Combining Data"
   ]
  },
  {
   "cell_type": "markdown",
   "id": "a2cdfc70-44c8-478c-81e7-2bc43fdf4986",
   "metadata": {
    "id": "a2cdfc70-44c8-478c-81e7-2bc43fdf4986"
   },
   "source": [
    "## Challenge 1: Combining & Cleaning Data\n",
    "\n",
    "In this challenge, we will be working with the customer data from an insurance company, as we did in the two previous labs. The data can be found here:\n",
    "- https://raw.githubusercontent.com/data-bootcamp-v4/data/main/file1.csv\n",
    "\n",
    "But this time, we got new data, which can be found in the following 2 CSV files located at the links below.\n",
    "\n",
    "- https://raw.githubusercontent.com/data-bootcamp-v4/data/main/file2.csv\n",
    "- https://raw.githubusercontent.com/data-bootcamp-v4/data/main/file3.csv\n",
    "\n",
    "Note that you'll need to clean and format the new data.\n",
    "\n",
    "Observation:\n",
    "- One option is to first combine the three datasets and then apply the cleaning function to the new combined dataset\n",
    "- Another option would be to read the clean file you saved in the previous lab, and just clean the two new files and concatenate the three clean datasets"
   ]
  },
  {
   "cell_type": "code",
   "execution_count": null,
   "id": "492d06e3-92c7-4105-ac72-536db98d3244",
   "metadata": {
    "id": "492d06e3-92c7-4105-ac72-536db98d3244"
   },
   "outputs": [],
   "source": [
    "import pandas as pd\n",
    "import numpy as np\n",
    "\n",
    "pd.options.display.max_columns = None"
   ]
  },
  {
   "cell_type": "code",
   "execution_count": null,
   "id": "c5896515",
   "metadata": {},
   "outputs": [],
   "source": [
    "# Challenge 1:\n",
    "\n",
    "url1 = \"https://raw.githubusercontent.com/data-bootcamp-v4/data/main/file1.csv\"\n",
    "df_1 = pd.read_csv(url1)\n",
    "\n",
    "url2 = \"https://raw.githubusercontent.com/data-bootcamp-v4/data/main/file2.csv\"\n",
    "df_2 = pd.read_csv(url2)\n",
    "\n",
    "url3 = \"https://raw.githubusercontent.com/data-bootcamp-v4/data/main/file3.csv\"\n",
    "df_3 = pd.read_csv(url3)"
   ]
  },
  {
   "cell_type": "code",
   "execution_count": null,
   "id": "cb9b2e8c",
   "metadata": {},
   "outputs": [],
   "source": [
    "df_1.head()"
   ]
  },
  {
   "cell_type": "code",
   "execution_count": null,
   "id": "4e367f08",
   "metadata": {},
   "outputs": [],
   "source": [
    "df_2.head()"
   ]
  },
  {
   "cell_type": "code",
   "execution_count": null,
   "id": "af0dd434",
   "metadata": {},
   "outputs": [],
   "source": [
    "df_3.head()"
   ]
  },
  {
   "cell_type": "code",
   "execution_count": null,
   "id": "6477188e",
   "metadata": {},
   "outputs": [],
   "source": [
    "# Start cleaning with the df_1\n",
    "\n",
    "df_1.columns  = df_1.columns.str.lower()\n",
    "df_1.columns"
   ]
  },
  {
   "cell_type": "code",
   "execution_count": null,
   "id": "e0a8b300",
   "metadata": {},
   "outputs": [],
   "source": [
    "df_1.isnull().sum()"
   ]
  },
  {
   "cell_type": "code",
   "execution_count": null,
   "id": "8c72b010",
   "metadata": {},
   "outputs": [],
   "source": [
    "df_1.shape"
   ]
  },
  {
   "cell_type": "code",
   "execution_count": null,
   "id": "42004cbf",
   "metadata": {},
   "outputs": [],
   "source": [
    "df_1.dropna()"
   ]
  },
  {
   "cell_type": "code",
   "execution_count": null,
   "id": "70352262",
   "metadata": {},
   "outputs": [],
   "source": [
    "df_1 = df_1.dropna()"
   ]
  },
  {
   "cell_type": "code",
   "execution_count": null,
   "id": "d63a90de",
   "metadata": {},
   "outputs": [],
   "source": [
    "df_1.duplicated().sum()"
   ]
  },
  {
   "cell_type": "code",
   "execution_count": null,
   "id": "c6df3818",
   "metadata": {},
   "outputs": [],
   "source": [
    "df_1['number of open complaints'].unique()"
   ]
  },
  {
   "cell_type": "code",
   "execution_count": null,
   "id": "be4cca14",
   "metadata": {},
   "outputs": [],
   "source": [
    "df_1['customer lifetime value'] = df_1['customer lifetime value'].str.replace('%', '')"
   ]
  },
  {
   "cell_type": "code",
   "execution_count": null,
   "id": "4e37c8d9",
   "metadata": {},
   "outputs": [],
   "source": [
    "df_1 = df_1.drop([\"customer\", \"education\"], axis=1)"
   ]
  },
  {
   "cell_type": "code",
   "execution_count": null,
   "id": "ec7d9f23",
   "metadata": {},
   "outputs": [],
   "source": [
    "display(df_1)"
   ]
  },
  {
   "cell_type": "code",
   "execution_count": null,
   "id": "aff276a3",
   "metadata": {},
   "outputs": [],
   "source": [
    "# Start cleaning with the df_2\n",
    "\n",
    "df_2.columns  = df_2.columns.str.lower()\n",
    "df_2.columns"
   ]
  },
  {
   "cell_type": "code",
   "execution_count": null,
   "id": "c436c367",
   "metadata": {},
   "outputs": [],
   "source": [
    "df_2.isnull().sum()"
   ]
  },
  {
   "cell_type": "code",
   "execution_count": null,
   "id": "a1d2343b",
   "metadata": {},
   "outputs": [],
   "source": [
    "df_2.shape"
   ]
  },
  {
   "cell_type": "code",
   "execution_count": null,
   "id": "f393363b",
   "metadata": {},
   "outputs": [],
   "source": [
    "df_2.dropna()"
   ]
  },
  {
   "cell_type": "code",
   "execution_count": null,
   "id": "0a395b06",
   "metadata": {},
   "outputs": [],
   "source": [
    "df_2 = df_2.dropna()"
   ]
  },
  {
   "cell_type": "code",
   "execution_count": null,
   "id": "b1b11b81",
   "metadata": {},
   "outputs": [],
   "source": [
    "df_2.duplicated().sum()"
   ]
  },
  {
   "cell_type": "code",
   "execution_count": null,
   "id": "dfcea25d",
   "metadata": {},
   "outputs": [],
   "source": [
    "def extract_middle_value(complaints):\n",
    "    if isinstance(complaints, str):\n",
    "        parts = complaints.split('/')\n",
    "        middle_value = int(parts[1])\n",
    "        return middle_value\n",
    "    else:\n",
    "        return complaints\n",
    "\n",
    "df_2['number of open complaints'] = df_2['number of open complaints'].apply(extract_middle_value)"
   ]
  },
  {
   "cell_type": "code",
   "execution_count": null,
   "id": "9ed1cb03",
   "metadata": {},
   "outputs": [],
   "source": [
    "df_2['number of open complaints'].unique()"
   ]
  },
  {
   "cell_type": "code",
   "execution_count": null,
   "id": "42db6f31",
   "metadata": {},
   "outputs": [],
   "source": [
    "df_2['customer lifetime value'] = df_2['customer lifetime value'].str.replace('%', '')"
   ]
  },
  {
   "cell_type": "code",
   "execution_count": null,
   "id": "e288d837",
   "metadata": {},
   "outputs": [],
   "source": [
    "df_2 = df_2.drop([\"customer\", \"education\"], axis=1)"
   ]
  },
  {
   "cell_type": "code",
   "execution_count": null,
   "id": "25a1b13a",
   "metadata": {},
   "outputs": [],
   "source": [
    "display(df_2)"
   ]
  },
  {
   "cell_type": "code",
   "execution_count": null,
   "id": "0c7ab513",
   "metadata": {},
   "outputs": [],
   "source": [
    "# Start cleaning with the df_3\n",
    "\n",
    "df_3.columns  = df_3.columns.str.lower()\n",
    "df_3.columns"
   ]
  },
  {
   "cell_type": "code",
   "execution_count": null,
   "id": "4a39a419",
   "metadata": {},
   "outputs": [],
   "source": [
    "df_3.columns = df_3.columns.str.replace(\"state\", \"st\")"
   ]
  },
  {
   "cell_type": "code",
   "execution_count": null,
   "id": "3dcfc1ef",
   "metadata": {},
   "outputs": [],
   "source": [
    "df_3.isnull().sum()"
   ]
  },
  {
   "cell_type": "code",
   "execution_count": null,
   "id": "805ed530",
   "metadata": {},
   "outputs": [],
   "source": [
    "df_3.duplicated().sum()"
   ]
  },
  {
   "cell_type": "code",
   "execution_count": null,
   "id": "ba235907",
   "metadata": {},
   "outputs": [],
   "source": [
    "df_3.shape"
   ]
  },
  {
   "cell_type": "code",
   "execution_count": null,
   "id": "f20bad88",
   "metadata": {},
   "outputs": [],
   "source": [
    "df_3 = df_3.drop([\"customer\", \"education\"], axis=1)"
   ]
  },
  {
   "cell_type": "code",
   "execution_count": null,
   "id": "4124e0ac",
   "metadata": {},
   "outputs": [],
   "source": [
    "display(df_3)"
   ]
  },
  {
   "cell_type": "code",
   "execution_count": null,
   "id": "e85dd88a",
   "metadata": {},
   "outputs": [],
   "source": [
    "# Lets work on all three DataFrames. First we align the columns across the three DataFrames.\n",
    "\n",
    "df_2 = df_2[df_1.columns]\n",
    "df_3 = df_3[df_1.columns]\n",
    "\n",
    "# Concatting the three DataFrames.\n",
    "\n",
    "df = pd.concat([df_1, df_2, df_3], ignore_index = True)"
   ]
  },
  {
   "cell_type": "code",
   "execution_count": null,
   "id": "1c6fac19",
   "metadata": {},
   "outputs": [],
   "source": [
    "display(df)"
   ]
  },
  {
   "cell_type": "code",
   "execution_count": null,
   "id": "2b10bb44",
   "metadata": {},
   "outputs": [],
   "source": [
    "# Cleaning the DataFrame.\n",
    "\n",
    "df[\"st\"].unique()"
   ]
  },
  {
   "cell_type": "code",
   "execution_count": null,
   "id": "8fc9c055",
   "metadata": {},
   "outputs": [],
   "source": [
    "st_rename = {\"AZ\":\"Arizona\",\n",
    "             \"Cali\":\"California\", \n",
    "             \"WA\":\"Washington\"\n",
    "            }\n",
    "\n",
    "df[\"st\"] = df[\"st\"].replace(st_rename)"
   ]
  },
  {
   "cell_type": "code",
   "execution_count": null,
   "id": "417c1fe1",
   "metadata": {},
   "outputs": [],
   "source": [
    "df[\"st\"].unique()"
   ]
  },
  {
   "cell_type": "code",
   "execution_count": null,
   "id": "f28d5f4f",
   "metadata": {},
   "outputs": [],
   "source": [
    "df[\"gender\"].unique()"
   ]
  },
  {
   "cell_type": "code",
   "execution_count": null,
   "id": "032b861a",
   "metadata": {},
   "outputs": [],
   "source": [
    "gender_rename = {\"Femal\":\"F\", \n",
    "                 \"female\":\"F\", \n",
    "                 \"Male\":\"M\"\n",
    "                }\n",
    "\n",
    "df[\"gender\"] = df[\"gender\"].replace(gender_rename)"
   ]
  },
  {
   "cell_type": "code",
   "execution_count": null,
   "id": "50732931",
   "metadata": {},
   "outputs": [],
   "source": [
    "df[\"gender\"].unique()"
   ]
  },
  {
   "cell_type": "code",
   "execution_count": null,
   "id": "9582c5da",
   "metadata": {},
   "outputs": [],
   "source": [
    "df[\"vehicle class\"].unique()"
   ]
  },
  {
   "cell_type": "code",
   "execution_count": null,
   "id": "82d44e27",
   "metadata": {},
   "outputs": [],
   "source": [
    "display(df)"
   ]
  },
  {
   "cell_type": "markdown",
   "id": "31b8a9e7-7db9-4604-991b-ef6771603e57",
   "metadata": {
    "id": "31b8a9e7-7db9-4604-991b-ef6771603e57"
   },
   "source": [
    "# Challenge 2: Structuring Data"
   ]
  },
  {
   "cell_type": "markdown",
   "id": "a877fd6d-7a0c-46d2-9657-f25036e4ca4b",
   "metadata": {
    "id": "a877fd6d-7a0c-46d2-9657-f25036e4ca4b"
   },
   "source": [
    "In this challenge, we will continue to work with customer data from an insurance company, but we will use a dataset with more columns, called marketing_customer_analysis.csv, which can be found at the following link:\n",
    "\n",
    "https://raw.githubusercontent.com/data-bootcamp-v4/data/main/marketing_customer_analysis_clean.csv\n",
    "\n",
    "This dataset contains information such as customer demographics, policy details, vehicle information, and the customer's response to the last marketing campaign. Our goal is to explore and analyze this data by performing data cleaning, formatting, and structuring."
   ]
  },
  {
   "cell_type": "code",
   "execution_count": null,
   "id": "8ee5dd87",
   "metadata": {},
   "outputs": [],
   "source": [
    "# Challenge 2:\n",
    "\n",
    "url = \"https://raw.githubusercontent.com/data-bootcamp-v4/data/main/marketing_customer_analysis_clean.csv\"\n",
    "\n",
    "df_c2 = pd.read_csv(url)\n",
    "\n",
    "display(df_c2)"
   ]
  },
  {
   "cell_type": "code",
   "execution_count": null,
   "id": "01e21837",
   "metadata": {},
   "outputs": [],
   "source": [
    "df_c2.shape"
   ]
  },
  {
   "cell_type": "code",
   "execution_count": null,
   "id": "ba1ba1d8",
   "metadata": {},
   "outputs": [],
   "source": [
    "df_c2.describe()"
   ]
  },
  {
   "cell_type": "code",
   "execution_count": null,
   "id": "bc596318",
   "metadata": {},
   "outputs": [],
   "source": [
    "df_c2.isnull().sum()"
   ]
  },
  {
   "cell_type": "code",
   "execution_count": null,
   "id": "e8b14140",
   "metadata": {},
   "outputs": [],
   "source": [
    "df_c2.duplicated().sum()"
   ]
  },
  {
   "cell_type": "code",
   "execution_count": null,
   "id": "cf861e85",
   "metadata": {},
   "outputs": [],
   "source": [
    "df_c2 = df_c2.drop([\"customer\", \"unnamed:_0\", \"vehicle_size\", \"vehicle_type\", \"vehicle_class\", \"state\", \"response\", \"coverage\", \"effective_to_date\", \"employmentstatus\", \"income\", \"location_code\", \"marital_status\", \"monthly_premium_auto\", \"months_since_last_claim\", \"months_since_policy_inception\", \"number_of_policies\", \"policy\", \"renew_offer_type\"], axis=1)"
   ]
  },
  {
   "cell_type": "code",
   "execution_count": null,
   "id": "aa10d9b0-1c27-4d3f-a8e4-db6ab73bfd26",
   "metadata": {
    "id": "aa10d9b0-1c27-4d3f-a8e4-db6ab73bfd26"
   },
   "outputs": [],
   "source": [
    "display(df_c2)"
   ]
  },
  {
   "cell_type": "markdown",
   "id": "df35fd0d-513e-4e77-867e-429da10a9cc7",
   "metadata": {
    "id": "df35fd0d-513e-4e77-867e-429da10a9cc7"
   },
   "source": [
    "1. You work at the marketing department and you want to know which sales channel brought the most sales in terms of total revenue. Using pivot, create a summary table showing the total revenue for each sales channel (branch, call center, web, and mail).\n",
    "Round the total revenue to 2 decimal points.  Analyze the resulting table to draw insights."
   ]
  },
  {
   "cell_type": "code",
   "execution_count": null,
   "id": "19fa814a",
   "metadata": {},
   "outputs": [],
   "source": [
    "# Challenge 2.i):\n",
    "\n",
    "pivot_table = df_c2.pivot_table(values=\"total_claim_amount\", index=\"sales_channel\", aggfunc=\"sum\").round(2)"
   ]
  },
  {
   "cell_type": "code",
   "execution_count": null,
   "id": "2ae9751b",
   "metadata": {},
   "outputs": [],
   "source": [
    "display(pivot_table)"
   ]
  },
  {
   "cell_type": "markdown",
   "id": "640993b2-a291-436c-a34d-a551144f8196",
   "metadata": {
    "id": "640993b2-a291-436c-a34d-a551144f8196"
   },
   "source": [
    "2. Create a pivot table that shows the average customer lifetime value per gender and education level. Analyze the resulting table to draw insights."
   ]
  },
  {
   "cell_type": "code",
   "execution_count": null,
   "id": "bd2a1605",
   "metadata": {},
   "outputs": [],
   "source": [
    "# Challenge 2.ii):\n",
    "\n",
    "pivot_table2 = df_c2.pivot_table(values=\"customer_lifetime_value\", index=\"education\", columns=\"gender\", aggfunc=\"mean\") # mean because of the average"
   ]
  },
  {
   "cell_type": "code",
   "execution_count": null,
   "id": "08d6f7c3",
   "metadata": {},
   "outputs": [],
   "source": [
    "display(pivot_table2)"
   ]
  },
  {
   "cell_type": "markdown",
   "id": "32c7f2e5-3d90-43e5-be33-9781b6069198",
   "metadata": {
    "id": "32c7f2e5-3d90-43e5-be33-9781b6069198"
   },
   "source": [
    "## Bonus\n",
    "\n",
    "You work at the customer service department and you want to know which months had the highest number of complaints by policy type category. Create a summary table showing the number of complaints by policy type and month.\n",
    "Show it in a long format table."
   ]
  },
  {
   "cell_type": "markdown",
   "id": "e3d09a8f-953c-448a-a5f8-2e5a8cca7291",
   "metadata": {
    "id": "e3d09a8f-953c-448a-a5f8-2e5a8cca7291"
   },
   "source": [
    "*In data analysis, a long format table is a way of structuring data in which each observation or measurement is stored in a separate row of the table. The key characteristic of a long format table is that each column represents a single variable, and each row represents a single observation of that variable.*\n",
    "\n",
    "*More information about long and wide format tables here: https://www.statology.org/long-vs-wide-data/*"
   ]
  },
  {
   "cell_type": "code",
   "execution_count": null,
   "id": "3a069e0b-b400-470e-904d-d17582191be4",
   "metadata": {
    "id": "3a069e0b-b400-470e-904d-d17582191be4"
   },
   "outputs": [],
   "source": [
    "# Challenge 2.Bonus):\n",
    "\n",
    "summary_table = df_c2.groupby([\"policy_type\", \"month\"]).agg({\"number_of_open_complaints\" : \"sum\"}).reset_index()"
   ]
  },
  {
   "cell_type": "code",
   "execution_count": null,
   "id": "827d56c9",
   "metadata": {},
   "outputs": [],
   "source": [
    "display(summary_table)"
   ]
  },
  {
   "cell_type": "code",
   "execution_count": null,
   "id": "3fbc08ac",
   "metadata": {},
   "outputs": [],
   "source": [
    "summary_table = summary_table.set_index(\"policy_type\")"
   ]
  },
  {
   "cell_type": "code",
   "execution_count": null,
   "id": "22e8a024",
   "metadata": {},
   "outputs": [],
   "source": [
    "display(summary_table)"
   ]
  }
 ],
 "metadata": {
  "colab": {
   "provenance": []
  },
  "kernelspec": {
   "display_name": "Python 3 (ipykernel)",
   "language": "python",
   "name": "python3"
  },
  "language_info": {
   "codemirror_mode": {
    "name": "ipython",
    "version": 3
   },
   "file_extension": ".py",
   "mimetype": "text/x-python",
   "name": "python",
   "nbconvert_exporter": "python",
   "pygments_lexer": "ipython3",
   "version": "3.11.5"
  }
 },
 "nbformat": 4,
 "nbformat_minor": 5
}
